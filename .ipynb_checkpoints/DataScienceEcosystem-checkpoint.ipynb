{
 "cells": [
  {
   "cell_type": "markdown",
   "id": "b03fb98c-e707-4eb0-9cb4-2300efd211ff",
   "metadata": {},
   "source": [
    "# Data Science Tools and Ecosystem"
   ]
  },
  {
   "cell_type": "markdown",
   "id": "4acdc875-d6b6-4b78-bb7f-a9abbd0764e4",
   "metadata": {},
   "source": [
    "In this notebook, Data Science Tools and Ecosystem are summarized."
   ]
  },
  {
   "cell_type": "markdown",
   "id": "755f22cd-eba7-47f0-9b05-6f50eae13714",
   "metadata": {},
   "source": [
    "**Objectives:**\n",
    "- List popular languages for Data Science\n",
    "- Identify commonly used libraries\n",
    "- Explore open-source Data Science tools\n",
    "- Perform basic arithmetic operations"
   ]
  },
  {
   "cell_type": "markdown",
   "id": "96a7674a-2a8a-4ee3-9544-5e83e0b4c681",
   "metadata": {},
   "source": [
    "##### **Some of the popular languages that Data Scientists use are:**\n",
    "1. Python\n",
    "2. R\n",
    "3. SQL\n",
    "4. Julia"
   ]
  },
  {
   "cell_type": "markdown",
   "id": "35cdfdeb-e1a6-4e45-ad26-b44fb03319bc",
   "metadata": {},
   "source": [
    "##### **Some of the commonly used libraries used by Data Scientists include:**\n",
    "1. Pandas\n",
    "2. NumPy\n",
    "3. Matplotlib\n",
    "4. Scikit-learn\n",
    "5. TensorFlow"
   ]
  },
  {
   "cell_type": "markdown",
   "id": "eef841b9-7d8f-49b6-a5cc-2e48f3c23f6d",
   "metadata": {},
   "source": [
    "| Data Science Tools |\n",
    "| ------------------ |\n",
    "| Jupiter Notebook |\n",
    "| RStudio |\n",
    "| VScode |\n"
   ]
  },
  {
   "cell_type": "markdown",
   "id": "dce6ccd6-3d05-4ed1-9d3e-70d39376a1a7",
   "metadata": {},
   "source": [
    "### Below are a few examples of evaluating arithmetic expressions in Python"
   ]
  },
  {
   "cell_type": "code",
   "execution_count": 5,
   "id": "f01e9366-fe7c-4dc6-8e5f-7b842ba3d12b",
   "metadata": {},
   "outputs": [
    {
     "data": {
      "text/plain": [
       "17"
      ]
     },
     "execution_count": 5,
     "metadata": {},
     "output_type": "execute_result"
    }
   ],
   "source": [
    "#This a simple arithmetic expression to mutiply then add integers\n",
    "(3*4)+5"
   ]
  },
  {
   "cell_type": "code",
   "execution_count": 8,
   "id": "46b21b52-f849-4f0b-bda2-b6aa392f97a7",
   "metadata": {},
   "outputs": [
    {
     "name": "stdout",
     "output_type": "stream",
     "text": [
      "200 minutes is equal to 3 hours and 20 minutes.\n"
     ]
    }
   ],
   "source": [
    "# Convert minutes to hours\n",
    "convert_minutes = 200\n",
    "\n",
    "# Calculate the number of hours\n",
    "hours = convert_minutes // 60\n",
    "\n",
    "# Calculate the remaining minutes\n",
    "remaining_minutes = convert_minutes % 60\n",
    "\n",
    "# Print the result\n",
    "print(f\"{convert_minutes} minutes is equal to {hours} hours and {remaining_minutes} minutes.\")"
   ]
  },
  {
   "cell_type": "markdown",
   "id": "2b923827-03f0-41f9-a8bc-355dc08145e8",
   "metadata": {},
   "source": [
    "## Author\n",
    "Shafeyev Daniil"
   ]
  },
  {
   "cell_type": "markdown",
   "id": "3e7f0a32-8cdb-4e65-86cd-21600b58d851",
   "metadata": {},
   "source": [
    "[GitHub Repository](https://github.com/argokz/ibm-course/blob/main/DataScienceEcosystem.ipynb)"
   ]
  }
 ],
 "metadata": {
  "kernelspec": {
   "display_name": "Python 3 (ipykernel)",
   "language": "python",
   "name": "python3"
  },
  "language_info": {
   "codemirror_mode": {
    "name": "ipython",
    "version": 3
   },
   "file_extension": ".py",
   "mimetype": "text/x-python",
   "name": "python",
   "nbconvert_exporter": "python",
   "pygments_lexer": "ipython3",
   "version": "3.12.7"
  }
 },
 "nbformat": 4,
 "nbformat_minor": 5
}
